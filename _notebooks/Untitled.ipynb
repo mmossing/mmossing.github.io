{
 "cells": [
  {
   "cell_type": "markdown",
   "id": "8affb4e1-da89-406e-bc94-9f04e0077fbe",
   "metadata": {},
   "source": [
    "blog--notes"
   ]
  }
 ],
 "metadata": {
  "kernelspec": {
   "display_name": "Python (jupyter_env)",
   "language": "python",
   "name": "jupyter_env"
  },
  "language_info": {
   "codemirror_mode": {
    "name": "ipython",
    "version": 3
   },
   "file_extension": ".py",
   "mimetype": "text/x-python",
   "name": "python",
   "nbconvert_exporter": "python",
   "pygments_lexer": "ipython3",
   "version": "3.10.13"
  }
 },
 "nbformat": 4,
 "nbformat_minor": 5
}
